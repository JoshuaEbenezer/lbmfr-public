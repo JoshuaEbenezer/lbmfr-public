{
 "cells": [
  {
   "cell_type": "code",
   "execution_count": 4,
   "id": "02ec65c7",
   "metadata": {},
   "outputs": [],
   "source": [
    "import numpy as np\n",
    "import pandas as pd\n",
    "import os\n",
    "from joblib import load\n",
    "from scipy.stats import spearmanr,pearsonr\n",
    "from scipy.optimize import curve_fit\n",
    "import glob\n",
    "\n",
    "filenames = glob.glob('./strred/strred_features_PR/*.z')\n",
    "all_preds = []\n",
    "all_dmos = []\n",
    "score_df = pd.read_csv('/data/PV_VQA_Study/code/score_cleanup_code/lbvfr_dmos_from_mos.csv')\n",
    "\n",
    "\n",
    "for f in filenames:\n",
    "    print(f)\n",
    "    if('SRC' in f):\n",
    "        continue\n",
    "    preds_list = load(f)\n",
    "    preds = np.mean(preds_list)\n",
    "    vid_name= os.path.splitext(os.path.basename(f))[0]\n",
    "    print(vid_name,preds)\n",
    "    all_preds.append(preds)\n",
    "    dmos = score_df[score_df['video']==vid_name].dmos.iloc[0]\n",
    "    all_dmos.append(dmos)\n"
   ]
  },
  {
   "cell_type": "code",
   "execution_count": 3,
   "id": "6cf031c2",
   "metadata": {},
   "outputs": [
    {
     "data": {
      "image/png": "[encoded data removed]",
      "text/plain": [
       "<Figure size 432x288 with 1 Axes>"
      ]
     },
     "metadata": {
      "needs_background": "light"
     },
     "output_type": "display_data"
    }
   ],
   "source": [
    "import matplotlib.pyplot as plt\n",
    "\n",
    "plt.scatter(all_dmos,all_preds)\n",
    "plt.xlabel('DMOS')\n",
    "plt.ylabel('Predictions')\n",
    "plt.show()"
   ]
  },
  {
   "cell_type": "code",
   "execution_count": null,
   "id": "aea977e4",
   "metadata": {},
   "outputs": [],
   "source": []
  }
 ],
 "metadata": {
  "kernelspec": {
   "display_name": "Python 3 (ipykernel)",
   "language": "python",
   "name": "python3"
  },
  "language_info": {
   "codemirror_mode": {
    "name": "ipython",
    "version": 3
   },
   "file_extension": ".py",
   "mimetype": "text/x-python",
   "name": "python",
   "nbconvert_exporter": "python",
   "pygments_lexer": "ipython3",
   "version": "3.9.4"
  }
 },
 "nbformat": 4,
 "nbformat_minor": 5
}
